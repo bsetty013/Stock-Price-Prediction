{
 "cells": [
  {
   "cell_type": "code",
   "execution_count": 1,
   "id": "bc446c97",
   "metadata": {},
   "outputs": [],
   "source": [
    "import datetime as dt\n",
    "import pandas as pd\n",
    "import pandas_datareader.data as web\n",
    "import numpy as np"
   ]
  },
  {
   "cell_type": "code",
   "execution_count": 2,
   "id": "a7fa3d55",
   "metadata": {},
   "outputs": [
    {
     "ename": "TypeError",
     "evalue": "string indices must be integers",
     "output_type": "error",
     "traceback": [
      "\u001b[1;31m---------------------------------------------------------------------------\u001b[0m",
      "\u001b[1;31mTypeError\u001b[0m                                 Traceback (most recent call last)",
      "\u001b[1;32m<ipython-input-2-38436e503d8e>\u001b[0m in \u001b[0;36m<module>\u001b[1;34m\u001b[0m\n\u001b[0;32m      1\u001b[0m \u001b[0mstart\u001b[0m \u001b[1;33m=\u001b[0m \u001b[0mdt\u001b[0m\u001b[1;33m.\u001b[0m\u001b[0mdatetime\u001b[0m\u001b[1;33m(\u001b[0m\u001b[1;36m2015\u001b[0m\u001b[1;33m,\u001b[0m\u001b[1;36m9\u001b[0m\u001b[1;33m,\u001b[0m\u001b[1;36m1\u001b[0m\u001b[1;33m)\u001b[0m\u001b[1;33m\u001b[0m\u001b[1;33m\u001b[0m\u001b[0m\n\u001b[0;32m      2\u001b[0m \u001b[0mend\u001b[0m \u001b[1;33m=\u001b[0m \u001b[0mdt\u001b[0m\u001b[1;33m.\u001b[0m\u001b[0mdatetime\u001b[0m\u001b[1;33m(\u001b[0m\u001b[1;36m2020\u001b[0m\u001b[1;33m,\u001b[0m\u001b[1;36m9\u001b[0m\u001b[1;33m,\u001b[0m\u001b[1;36m1\u001b[0m\u001b[1;33m)\u001b[0m\u001b[1;33m\u001b[0m\u001b[1;33m\u001b[0m\u001b[0m\n\u001b[1;32m----> 3\u001b[1;33m \u001b[0mdf\u001b[0m \u001b[1;33m=\u001b[0m \u001b[0mweb\u001b[0m\u001b[1;33m.\u001b[0m\u001b[0mDataReader\u001b[0m\u001b[1;33m(\u001b[0m\u001b[1;34m'DAL'\u001b[0m\u001b[1;33m,\u001b[0m\u001b[1;34m'yahoo'\u001b[0m\u001b[1;33m,\u001b[0m\u001b[0mstart\u001b[0m\u001b[1;33m,\u001b[0m\u001b[0mend\u001b[0m\u001b[1;33m)\u001b[0m\u001b[1;33m\u001b[0m\u001b[1;33m\u001b[0m\u001b[0m\n\u001b[0m\u001b[0;32m      4\u001b[0m \u001b[0mdf\u001b[0m\u001b[1;33m.\u001b[0m\u001b[0mhead\u001b[0m\u001b[1;33m(\u001b[0m\u001b[1;33m)\u001b[0m\u001b[1;33m\u001b[0m\u001b[1;33m\u001b[0m\u001b[0m\n",
      "\u001b[1;32m~\\anaconda3\\lib\\site-packages\\pandas\\util\\_decorators.py\u001b[0m in \u001b[0;36mwrapper\u001b[1;34m(*args, **kwargs)\u001b[0m\n\u001b[0;32m    197\u001b[0m                 \u001b[1;32melse\u001b[0m\u001b[1;33m:\u001b[0m\u001b[1;33m\u001b[0m\u001b[1;33m\u001b[0m\u001b[0m\n\u001b[0;32m    198\u001b[0m                     \u001b[0mkwargs\u001b[0m\u001b[1;33m[\u001b[0m\u001b[0mnew_arg_name\u001b[0m\u001b[1;33m]\u001b[0m \u001b[1;33m=\u001b[0m \u001b[0mnew_arg_value\u001b[0m\u001b[1;33m\u001b[0m\u001b[1;33m\u001b[0m\u001b[0m\n\u001b[1;32m--> 199\u001b[1;33m             \u001b[1;32mreturn\u001b[0m \u001b[0mfunc\u001b[0m\u001b[1;33m(\u001b[0m\u001b[1;33m*\u001b[0m\u001b[0margs\u001b[0m\u001b[1;33m,\u001b[0m \u001b[1;33m**\u001b[0m\u001b[0mkwargs\u001b[0m\u001b[1;33m)\u001b[0m\u001b[1;33m\u001b[0m\u001b[1;33m\u001b[0m\u001b[0m\n\u001b[0m\u001b[0;32m    200\u001b[0m \u001b[1;33m\u001b[0m\u001b[0m\n\u001b[0;32m    201\u001b[0m         \u001b[1;32mreturn\u001b[0m \u001b[0mcast\u001b[0m\u001b[1;33m(\u001b[0m\u001b[0mF\u001b[0m\u001b[1;33m,\u001b[0m \u001b[0mwrapper\u001b[0m\u001b[1;33m)\u001b[0m\u001b[1;33m\u001b[0m\u001b[1;33m\u001b[0m\u001b[0m\n",
      "\u001b[1;32m~\\anaconda3\\lib\\site-packages\\pandas_datareader\\data.py\u001b[0m in \u001b[0;36mDataReader\u001b[1;34m(name, data_source, start, end, retry_count, pause, session, api_key)\u001b[0m\n\u001b[0;32m    368\u001b[0m \u001b[1;33m\u001b[0m\u001b[0m\n\u001b[0;32m    369\u001b[0m     \u001b[1;32mif\u001b[0m \u001b[0mdata_source\u001b[0m \u001b[1;33m==\u001b[0m \u001b[1;34m\"yahoo\"\u001b[0m\u001b[1;33m:\u001b[0m\u001b[1;33m\u001b[0m\u001b[1;33m\u001b[0m\u001b[0m\n\u001b[1;32m--> 370\u001b[1;33m         return YahooDailyReader(\n\u001b[0m\u001b[0;32m    371\u001b[0m             \u001b[0msymbols\u001b[0m\u001b[1;33m=\u001b[0m\u001b[0mname\u001b[0m\u001b[1;33m,\u001b[0m\u001b[1;33m\u001b[0m\u001b[1;33m\u001b[0m\u001b[0m\n\u001b[0;32m    372\u001b[0m             \u001b[0mstart\u001b[0m\u001b[1;33m=\u001b[0m\u001b[0mstart\u001b[0m\u001b[1;33m,\u001b[0m\u001b[1;33m\u001b[0m\u001b[1;33m\u001b[0m\u001b[0m\n",
      "\u001b[1;32m~\\anaconda3\\lib\\site-packages\\pandas_datareader\\base.py\u001b[0m in \u001b[0;36mread\u001b[1;34m(self)\u001b[0m\n\u001b[0;32m    251\u001b[0m         \u001b[1;31m# If a single symbol, (e.g., 'GOOG')\u001b[0m\u001b[1;33m\u001b[0m\u001b[1;33m\u001b[0m\u001b[1;33m\u001b[0m\u001b[0m\n\u001b[0;32m    252\u001b[0m         \u001b[1;32mif\u001b[0m \u001b[0misinstance\u001b[0m\u001b[1;33m(\u001b[0m\u001b[0mself\u001b[0m\u001b[1;33m.\u001b[0m\u001b[0msymbols\u001b[0m\u001b[1;33m,\u001b[0m \u001b[1;33m(\u001b[0m\u001b[0mstring_types\u001b[0m\u001b[1;33m,\u001b[0m \u001b[0mint\u001b[0m\u001b[1;33m)\u001b[0m\u001b[1;33m)\u001b[0m\u001b[1;33m:\u001b[0m\u001b[1;33m\u001b[0m\u001b[1;33m\u001b[0m\u001b[0m\n\u001b[1;32m--> 253\u001b[1;33m             \u001b[0mdf\u001b[0m \u001b[1;33m=\u001b[0m \u001b[0mself\u001b[0m\u001b[1;33m.\u001b[0m\u001b[0m_read_one_data\u001b[0m\u001b[1;33m(\u001b[0m\u001b[0mself\u001b[0m\u001b[1;33m.\u001b[0m\u001b[0murl\u001b[0m\u001b[1;33m,\u001b[0m \u001b[0mparams\u001b[0m\u001b[1;33m=\u001b[0m\u001b[0mself\u001b[0m\u001b[1;33m.\u001b[0m\u001b[0m_get_params\u001b[0m\u001b[1;33m(\u001b[0m\u001b[0mself\u001b[0m\u001b[1;33m.\u001b[0m\u001b[0msymbols\u001b[0m\u001b[1;33m)\u001b[0m\u001b[1;33m)\u001b[0m\u001b[1;33m\u001b[0m\u001b[1;33m\u001b[0m\u001b[0m\n\u001b[0m\u001b[0;32m    254\u001b[0m         \u001b[1;31m# Or multiple symbols, (e.g., ['GOOG', 'AAPL', 'MSFT'])\u001b[0m\u001b[1;33m\u001b[0m\u001b[1;33m\u001b[0m\u001b[1;33m\u001b[0m\u001b[0m\n\u001b[0;32m    255\u001b[0m         \u001b[1;32melif\u001b[0m \u001b[0misinstance\u001b[0m\u001b[1;33m(\u001b[0m\u001b[0mself\u001b[0m\u001b[1;33m.\u001b[0m\u001b[0msymbols\u001b[0m\u001b[1;33m,\u001b[0m \u001b[0mDataFrame\u001b[0m\u001b[1;33m)\u001b[0m\u001b[1;33m:\u001b[0m\u001b[1;33m\u001b[0m\u001b[1;33m\u001b[0m\u001b[0m\n",
      "\u001b[1;32m~\\anaconda3\\lib\\site-packages\\pandas_datareader\\yahoo\\daily.py\u001b[0m in \u001b[0;36m_read_one_data\u001b[1;34m(self, url, params)\u001b[0m\n\u001b[0;32m    151\u001b[0m         \u001b[1;32mtry\u001b[0m\u001b[1;33m:\u001b[0m\u001b[1;33m\u001b[0m\u001b[1;33m\u001b[0m\u001b[0m\n\u001b[0;32m    152\u001b[0m             \u001b[0mj\u001b[0m \u001b[1;33m=\u001b[0m \u001b[0mjson\u001b[0m\u001b[1;33m.\u001b[0m\u001b[0mloads\u001b[0m\u001b[1;33m(\u001b[0m\u001b[0mre\u001b[0m\u001b[1;33m.\u001b[0m\u001b[0msearch\u001b[0m\u001b[1;33m(\u001b[0m\u001b[0mptrn\u001b[0m\u001b[1;33m,\u001b[0m \u001b[0mresp\u001b[0m\u001b[1;33m.\u001b[0m\u001b[0mtext\u001b[0m\u001b[1;33m,\u001b[0m \u001b[0mre\u001b[0m\u001b[1;33m.\u001b[0m\u001b[0mDOTALL\u001b[0m\u001b[1;33m)\u001b[0m\u001b[1;33m.\u001b[0m\u001b[0mgroup\u001b[0m\u001b[1;33m(\u001b[0m\u001b[1;36m1\u001b[0m\u001b[1;33m)\u001b[0m\u001b[1;33m)\u001b[0m\u001b[1;33m\u001b[0m\u001b[1;33m\u001b[0m\u001b[0m\n\u001b[1;32m--> 153\u001b[1;33m             \u001b[0mdata\u001b[0m \u001b[1;33m=\u001b[0m \u001b[0mj\u001b[0m\u001b[1;33m[\u001b[0m\u001b[1;34m\"context\"\u001b[0m\u001b[1;33m]\u001b[0m\u001b[1;33m[\u001b[0m\u001b[1;34m\"dispatcher\"\u001b[0m\u001b[1;33m]\u001b[0m\u001b[1;33m[\u001b[0m\u001b[1;34m\"stores\"\u001b[0m\u001b[1;33m]\u001b[0m\u001b[1;33m[\u001b[0m\u001b[1;34m\"HistoricalPriceStore\"\u001b[0m\u001b[1;33m]\u001b[0m\u001b[1;33m\u001b[0m\u001b[1;33m\u001b[0m\u001b[0m\n\u001b[0m\u001b[0;32m    154\u001b[0m         \u001b[1;32mexcept\u001b[0m \u001b[0mKeyError\u001b[0m\u001b[1;33m:\u001b[0m\u001b[1;33m\u001b[0m\u001b[1;33m\u001b[0m\u001b[0m\n\u001b[0;32m    155\u001b[0m             \u001b[0mmsg\u001b[0m \u001b[1;33m=\u001b[0m \u001b[1;34m\"No data fetched for symbol {} using {}\"\u001b[0m\u001b[1;33m\u001b[0m\u001b[1;33m\u001b[0m\u001b[0m\n",
      "\u001b[1;31mTypeError\u001b[0m: string indices must be integers"
     ]
    }
   ],
   "source": [
    "start = dt.datetime(2015,9,1)\n",
    "end = dt.datetime(2020,9,1)\n",
    "df = web.DataReader('DAL','yahoo',start,end)\n",
    "df.head()"
   ]
  },
  {
   "cell_type": "markdown",
   "id": "4b109bda",
   "metadata": {},
   "source": [
    "Calculating moving averages of the stock data's closing prices to observe trends in the data. \n",
    "https://ieeexplore.ieee.org/stamp/stamp.jsp?tp=&arnumber=5437698"
   ]
  },
  {
   "cell_type": "code",
   "execution_count": null,
   "id": "cf91c4ed",
   "metadata": {},
   "outputs": [],
   "source": [
    "import matplotlib.pyplot as plt\n",
    "ma_day = [10,30,60]\n",
    "for ma in ma_day:\n",
    "    column_name = f\"MA for {ma} days\"\n",
    "    ma_df = df\n",
    "    ma_df[column_name] = ma_df[\"Adj Close\"].rolling(ma).mean()\n",
    "\n",
    "plt.figure(figsize=(13,4))\n",
    "plt.plot(df[\"Close\"],label=\"Closing Price\")\n",
    "plt.plot(df[\"MA for 10 days\"],label=\"10 Day Moving Average\")\n",
    "plt.plot(df[\"MA for 30 days\"],label=\"30 Day Moving Average\")\n",
    "plt.plot(df[\"MA for 60 days\"],label=\"60 Day Moving Average\")\n",
    "plt.grid()\n",
    "plt.xlabel(\"Time\")\n",
    "plt.ylabel(\"Closing Price\")\n",
    "plt.legend()\n",
    "plt.title(\"Moving Averages\")"
   ]
  },
  {
   "cell_type": "markdown",
   "id": "6d3d0a6a",
   "metadata": {},
   "source": [
    "Splitting data into training and test datasets. Only moving the closing price data to both datasets. In the paper below, a choice is made from the features high, low, date, open and close. Here I have chosen the closing prices."
   ]
  },
  {
   "cell_type": "code",
   "execution_count": 3,
   "id": "6fcd4dcd",
   "metadata": {},
   "outputs": [
    {
     "ename": "NameError",
     "evalue": "name 'df' is not defined",
     "output_type": "error",
     "traceback": [
      "\u001b[1;31m---------------------------------------------------------------------------\u001b[0m",
      "\u001b[1;31mNameError\u001b[0m                                 Traceback (most recent call last)",
      "\u001b[1;32m<ipython-input-3-3afef4e700ac>\u001b[0m in \u001b[0;36m<module>\u001b[1;34m\u001b[0m\n\u001b[1;32m----> 1\u001b[1;33m \u001b[0mtrain_size\u001b[0m \u001b[1;33m=\u001b[0m \u001b[0mint\u001b[0m\u001b[1;33m(\u001b[0m\u001b[0mlen\u001b[0m\u001b[1;33m(\u001b[0m\u001b[0mdf\u001b[0m\u001b[1;33m)\u001b[0m \u001b[1;33m*\u001b[0m \u001b[1;36m0.8\u001b[0m\u001b[1;33m)\u001b[0m\u001b[1;33m\u001b[0m\u001b[1;33m\u001b[0m\u001b[0m\n\u001b[0m\u001b[0;32m      2\u001b[0m \u001b[0mtest_size\u001b[0m \u001b[1;33m=\u001b[0m \u001b[0mlen\u001b[0m\u001b[1;33m(\u001b[0m\u001b[0mdf\u001b[0m\u001b[1;33m)\u001b[0m \u001b[1;33m-\u001b[0m \u001b[0mtrain_size\u001b[0m\u001b[1;33m\u001b[0m\u001b[1;33m\u001b[0m\u001b[0m\n\u001b[0;32m      3\u001b[0m \u001b[0mtrain_data\u001b[0m \u001b[1;33m=\u001b[0m \u001b[0mdf\u001b[0m\u001b[1;33m.\u001b[0m\u001b[0miloc\u001b[0m\u001b[1;33m[\u001b[0m\u001b[1;33m:\u001b[0m\u001b[0mtrain_size\u001b[0m\u001b[1;33m,\u001b[0m \u001b[1;36m3\u001b[0m\u001b[1;33m:\u001b[0m\u001b[1;36m4\u001b[0m\u001b[1;33m]\u001b[0m\u001b[1;33m.\u001b[0m\u001b[0mvalues\u001b[0m\u001b[1;33m\u001b[0m\u001b[1;33m\u001b[0m\u001b[0m\n\u001b[0;32m      4\u001b[0m \u001b[0mtest_data\u001b[0m \u001b[1;33m=\u001b[0m \u001b[0mdf\u001b[0m\u001b[1;33m.\u001b[0m\u001b[0miloc\u001b[0m\u001b[1;33m[\u001b[0m\u001b[0mtrain_size\u001b[0m\u001b[1;33m:\u001b[0m\u001b[1;33m,\u001b[0m \u001b[1;36m3\u001b[0m\u001b[1;33m:\u001b[0m\u001b[1;36m4\u001b[0m\u001b[1;33m]\u001b[0m\u001b[1;33m.\u001b[0m\u001b[0mvalues\u001b[0m\u001b[1;33m\u001b[0m\u001b[1;33m\u001b[0m\u001b[0m\n",
      "\u001b[1;31mNameError\u001b[0m: name 'df' is not defined"
     ]
    }
   ],
   "source": [
    "train_size = int(len(df) * 0.8)\n",
    "test_size = len(df) - train_size\n",
    "train_data = df.iloc[:train_size, 3:4].values\n",
    "test_data = df.iloc[train_size:, 3:4].values"
   ]
  },
  {
   "cell_type": "markdown",
   "id": "1df5a2f5",
   "metadata": {},
   "source": [
    "Paper below states that one of the steps of the data preprocessing is data transformation. Specifically the papaer suggests to normalize the data.\n",
    "There are many different ways to normalize data. Paper below states different ways of normalazing stock data specifically, and the affects this has.\n",
    "My choice of normalization is using a MinMaxScaler."
   ]
  },
  {
   "attachments": {
    "MinMax%20Normalization.PNG": {
     "image/png": "[encoded data removed]"
    }
   },
   "cell_type": "markdown",
   "id": "14dbea5c",
   "metadata": {},
   "source": [
    "![MinMax%20Normalization.PNG](attachment:MinMax%20Normalization.PNG)"
   ]
  },
  {
   "cell_type": "code",
   "execution_count": 4,
   "id": "07bf185b",
   "metadata": {},
   "outputs": [
    {
     "ename": "NameError",
     "evalue": "name 'train_data' is not defined",
     "output_type": "error",
     "traceback": [
      "\u001b[1;31m---------------------------------------------------------------------------\u001b[0m",
      "\u001b[1;31mNameError\u001b[0m                                 Traceback (most recent call last)",
      "\u001b[1;32m<ipython-input-4-e9da447b17a6>\u001b[0m in \u001b[0;36m<module>\u001b[1;34m\u001b[0m\n\u001b[0;32m      1\u001b[0m \u001b[1;32mfrom\u001b[0m \u001b[0msklearn\u001b[0m\u001b[1;33m.\u001b[0m\u001b[0mpreprocessing\u001b[0m \u001b[1;32mimport\u001b[0m \u001b[0mMinMaxScaler\u001b[0m\u001b[1;33m\u001b[0m\u001b[1;33m\u001b[0m\u001b[0m\n\u001b[0;32m      2\u001b[0m \u001b[0mscaler\u001b[0m \u001b[1;33m=\u001b[0m \u001b[0mMinMaxScaler\u001b[0m\u001b[1;33m(\u001b[0m\u001b[0mfeature_range\u001b[0m\u001b[1;33m=\u001b[0m\u001b[1;33m(\u001b[0m\u001b[1;36m0\u001b[0m\u001b[1;33m,\u001b[0m\u001b[1;36m1\u001b[0m\u001b[1;33m)\u001b[0m\u001b[1;33m)\u001b[0m\u001b[1;33m\u001b[0m\u001b[1;33m\u001b[0m\u001b[0m\n\u001b[1;32m----> 3\u001b[1;33m \u001b[0mtrain_data\u001b[0m \u001b[1;33m=\u001b[0m \u001b[0mscaler\u001b[0m\u001b[1;33m.\u001b[0m\u001b[0mfit_transform\u001b[0m\u001b[1;33m(\u001b[0m\u001b[0mtrain_data\u001b[0m\u001b[1;33m)\u001b[0m\u001b[1;33m\u001b[0m\u001b[1;33m\u001b[0m\u001b[0m\n\u001b[0m\u001b[0;32m      4\u001b[0m \u001b[0mtest_data\u001b[0m \u001b[1;33m=\u001b[0m \u001b[0mscaler\u001b[0m\u001b[1;33m.\u001b[0m\u001b[0mfit_transform\u001b[0m\u001b[1;33m(\u001b[0m\u001b[0mtest_data\u001b[0m\u001b[1;33m)\u001b[0m\u001b[1;33m\u001b[0m\u001b[1;33m\u001b[0m\u001b[0m\n",
      "\u001b[1;31mNameError\u001b[0m: name 'train_data' is not defined"
     ]
    }
   ],
   "source": [
    "from sklearn.preprocessing import MinMaxScaler\n",
    "scaler = MinMaxScaler(feature_range=(0,1))\n",
    "train_data = scaler.fit_transform(train_data)\n",
    "test_data = scaler.fit_transform(test_data)"
   ]
  },
  {
   "cell_type": "markdown",
   "id": "d7035f60",
   "metadata": {},
   "source": [
    "This function here is used to split datasets into x and y sets. Here I am using sequences to split to organise the data into x and y. The paper below did the same thing.\n",
    "For example if you used a time step of 30. The input would be the closing prices of Days 1 to 30. And the output would be the closing price on Day 31. The next input would be the closing prices of Days 2 to 31. The output would be the closing price of Day 32. This process is carried for all of the data."
   ]
  },
  {
   "attachments": {
    "Moving%20Window%20Graphic.PNG": {
     "image/png": "[encoded data removed]"
    }
   },
   "cell_type": "markdown",
   "id": "3c46c905",
   "metadata": {},
   "source": [
    "![Moving%20Window%20Graphic.PNG](attachment:Moving%20Window%20Graphic.PNG)"
   ]
  },
  {
   "cell_type": "code",
   "execution_count": 5,
   "id": "05ed0eb1",
   "metadata": {},
   "outputs": [],
   "source": [
    "def organise_data(dataset,time_step):\n",
    "    x_data = []\n",
    "    y_data = []\n",
    "    for i in range(0,len(dataset)-time_step):\n",
    "        x_data.append(dataset[i:i+time_step])\n",
    "        y_data.append(dataset[i+time_step])\n",
    "    x_data = np.array(x_data)\n",
    "    y_data = np.array(y_data)\n",
    "    return x_data,y_data"
   ]
  },
  {
   "cell_type": "code",
   "execution_count": 7,
   "id": "6c3c07ed",
   "metadata": {},
   "outputs": [
    {
     "ename": "NameError",
     "evalue": "name 'train_data' is not defined",
     "output_type": "error",
     "traceback": [
      "\u001b[1;31m---------------------------------------------------------------------------\u001b[0m",
      "\u001b[1;31mNameError\u001b[0m                                 Traceback (most recent call last)",
      "\u001b[1;32m<ipython-input-7-75998dae38e7>\u001b[0m in \u001b[0;36m<module>\u001b[1;34m\u001b[0m\n\u001b[0;32m      1\u001b[0m \u001b[0mtime_step\u001b[0m \u001b[1;33m=\u001b[0m \u001b[1;36m100\u001b[0m\u001b[1;33m\u001b[0m\u001b[1;33m\u001b[0m\u001b[0m\n\u001b[1;32m----> 2\u001b[1;33m \u001b[0mx_train\u001b[0m\u001b[1;33m,\u001b[0m \u001b[0my_train\u001b[0m \u001b[1;33m=\u001b[0m \u001b[0morganise_data\u001b[0m\u001b[1;33m(\u001b[0m\u001b[0mtrain_data\u001b[0m\u001b[1;33m,\u001b[0m\u001b[0mtime_step\u001b[0m\u001b[1;33m)\u001b[0m\u001b[1;33m\u001b[0m\u001b[1;33m\u001b[0m\u001b[0m\n\u001b[0m\u001b[0;32m      3\u001b[0m \u001b[0mx_test\u001b[0m\u001b[1;33m,\u001b[0m \u001b[0my_test\u001b[0m \u001b[1;33m=\u001b[0m \u001b[0morganise_data\u001b[0m\u001b[1;33m(\u001b[0m\u001b[0mtest_data\u001b[0m\u001b[1;33m,\u001b[0m\u001b[0mtime_step\u001b[0m\u001b[1;33m)\u001b[0m\u001b[1;33m\u001b[0m\u001b[1;33m\u001b[0m\u001b[0m\n",
      "\u001b[1;31mNameError\u001b[0m: name 'train_data' is not defined"
     ]
    }
   ],
   "source": [
    "time_step = 100\n",
    "x_train, y_train = organise_data(train_data,time_step)\n",
    "x_test, y_test = organise_data(test_data,time_step)"
   ]
  },
  {
   "cell_type": "code",
   "execution_count": 9,
   "id": "c8c32742",
   "metadata": {},
   "outputs": [],
   "source": [
    "from tensorflow.keras.models import Sequential\n",
    "from tensorflow.keras import layers\n",
    "from tensorflow.keras.layers import Dense\n",
    "from tensorflow.keras.layers import LSTM\n",
    "from tensorflow.keras.layers import Dropout\n",
    "from tensorflow.keras.layers import Bidirectional\n",
    "from tensorflow.keras.layers import TimeDistributed\n",
    "from tensorflow.keras.layers import Conv1D\n",
    "from tensorflow.keras.layers import MaxPooling1D\n",
    "from tensorflow.keras.layers import Flatten\n",
    "from tensorflow.keras.layers import ConvLSTM2D"
   ]
  },
  {
   "cell_type": "code",
   "execution_count": 10,
   "id": "438dded3",
   "metadata": {},
   "outputs": [],
   "source": [
    "seq = 10\n",
    "steps = 10\n",
    "features = 1\n",
    "cnn_x = x_train.reshape((x_train.shape[0],seq,steps,1))"
   ]
  },
  {
   "cell_type": "code",
   "execution_count": 11,
   "id": "65e1a7db",
   "metadata": {},
   "outputs": [],
   "source": [
    "cnn_model = Sequential()\n",
    "cnn_model.add(TimeDistributed(Conv1D(filters=64, kernel_size=1, activation='relu'), input_shape=(None, steps, 1)))\n",
    "cnn_model.add(TimeDistributed(MaxPooling1D(pool_size=2)))\n",
    "cnn_model.add(TimeDistributed(Flatten()))\n",
    "cnn_model.add(LSTM(50, activation='relu'))\n",
    "cnn_model.add(Dense(1))\n",
    "cnn_model.compile(loss=\"mean_squared_error\",optimizer=\"adam\")"
   ]
  },
  {
   "cell_type": "code",
   "execution_count": 23,
   "id": "22bb4323",
   "metadata": {},
   "outputs": [
    {
     "name": "stdout",
     "output_type": "stream",
     "text": [
      "Epoch 1/50\n",
      "29/29 [==============================] - 0s 14ms/step - loss: 0.0016\n",
      "Epoch 2/50\n",
      "29/29 [==============================] - 0s 15ms/step - loss: 0.0014\n",
      "Epoch 3/50\n",
      "29/29 [==============================] - 0s 14ms/step - loss: 0.0013\n",
      "Epoch 4/50\n",
      "29/29 [==============================] - 0s 14ms/step - loss: 0.0011\n",
      "Epoch 5/50\n",
      "29/29 [==============================] - 0s 14ms/step - loss: 0.0013\n",
      "Epoch 6/50\n",
      "29/29 [==============================] - 0s 14ms/step - loss: 0.0011\n",
      "Epoch 7/50\n",
      "29/29 [==============================] - 0s 14ms/step - loss: 0.0012\n",
      "Epoch 8/50\n",
      "29/29 [==============================] - 0s 14ms/step - loss: 0.0013\n",
      "Epoch 9/50\n",
      "29/29 [==============================] - 0s 14ms/step - loss: 0.0011\n",
      "Epoch 10/50\n",
      "29/29 [==============================] - 0s 14ms/step - loss: 0.0011\n",
      "Epoch 11/50\n",
      "29/29 [==============================] - 0s 14ms/step - loss: 0.0012\n",
      "Epoch 12/50\n",
      "29/29 [==============================] - 0s 14ms/step - loss: 0.0011\n",
      "Epoch 13/50\n",
      "29/29 [==============================] - 0s 13ms/step - loss: 0.0011\n",
      "Epoch 14/50\n",
      "29/29 [==============================] - 0s 15ms/step - loss: 0.0011\n",
      "Epoch 15/50\n",
      "29/29 [==============================] - 0s 14ms/step - loss: 0.0011\n",
      "Epoch 16/50\n",
      "29/29 [==============================] - 0s 14ms/step - loss: 0.0012\n",
      "Epoch 17/50\n",
      "29/29 [==============================] - 0s 14ms/step - loss: 0.0011\n",
      "Epoch 18/50\n",
      "29/29 [==============================] - 0s 15ms/step - loss: 0.0011\n",
      "Epoch 19/50\n",
      "29/29 [==============================] - 0s 14ms/step - loss: 0.0012\n",
      "Epoch 20/50\n",
      "29/29 [==============================] - 0s 14ms/step - loss: 0.0011\n",
      "Epoch 21/50\n",
      "29/29 [==============================] - 0s 14ms/step - loss: 0.0012\n",
      "Epoch 22/50\n",
      "29/29 [==============================] - 0s 14ms/step - loss: 0.0011\n",
      "Epoch 23/50\n",
      "29/29 [==============================] - 0s 14ms/step - loss: 0.0012\n",
      "Epoch 24/50\n",
      "29/29 [==============================] - 0s 14ms/step - loss: 0.0011\n",
      "Epoch 25/50\n",
      "29/29 [==============================] - 0s 15ms/step - loss: 0.0011\n",
      "Epoch 26/50\n",
      "29/29 [==============================] - 0s 14ms/step - loss: 0.0014\n",
      "Epoch 27/50\n",
      "29/29 [==============================] - 0s 14ms/step - loss: 0.0012\n",
      "Epoch 28/50\n",
      "29/29 [==============================] - 0s 15ms/step - loss: 0.0012\n",
      "Epoch 29/50\n",
      "29/29 [==============================] - 0s 14ms/step - loss: 0.0012\n",
      "Epoch 30/50\n",
      "29/29 [==============================] - 0s 14ms/step - loss: 0.0012\n",
      "Epoch 31/50\n",
      "29/29 [==============================] - 0s 14ms/step - loss: 0.0011\n",
      "Epoch 32/50\n",
      "29/29 [==============================] - 0s 14ms/step - loss: 0.0013\n",
      "Epoch 33/50\n",
      "29/29 [==============================] - 0s 14ms/step - loss: 0.0011\n",
      "Epoch 34/50\n",
      "29/29 [==============================] - 0s 15ms/step - loss: 0.0011\n",
      "Epoch 35/50\n",
      "29/29 [==============================] - 0s 15ms/step - loss: 0.0012\n",
      "Epoch 36/50\n",
      "29/29 [==============================] - 0s 15ms/step - loss: 0.0011\n",
      "Epoch 37/50\n",
      "29/29 [==============================] - 0s 14ms/step - loss: 0.0011\n",
      "Epoch 38/50\n",
      "29/29 [==============================] - 0s 14ms/step - loss: 0.0012\n",
      "Epoch 39/50\n",
      "29/29 [==============================] - 0s 14ms/step - loss: 0.0011\n",
      "Epoch 40/50\n",
      "29/29 [==============================] - 0s 14ms/step - loss: 0.0011\n",
      "Epoch 41/50\n",
      "29/29 [==============================] - 0s 14ms/step - loss: 0.0011\n",
      "Epoch 42/50\n",
      "29/29 [==============================] - 0s 14ms/step - loss: 0.0011\n",
      "Epoch 43/50\n",
      "29/29 [==============================] - 0s 14ms/step - loss: 0.0011\n",
      "Epoch 44/50\n",
      "29/29 [==============================] - 0s 13ms/step - loss: 0.0011\n",
      "Epoch 45/50\n",
      "29/29 [==============================] - 0s 12ms/step - loss: 0.0011\n",
      "Epoch 46/50\n",
      "29/29 [==============================] - 0s 14ms/step - loss: 0.0012\n",
      "Epoch 47/50\n",
      "29/29 [==============================] - 0s 14ms/step - loss: 0.0012\n",
      "Epoch 48/50\n",
      "29/29 [==============================] - 0s 13ms/step - loss: 0.0011\n",
      "Epoch 49/50\n",
      "29/29 [==============================] - 0s 14ms/step - loss: 0.0011\n",
      "Epoch 50/50\n",
      "29/29 [==============================] - 0s 14ms/step - loss: 0.0011: 0s - loss: 0\n"
     ]
    },
    {
     "data": {
      "text/plain": [
       "<keras.callbacks.History at 0x27f329b6460>"
      ]
     },
     "execution_count": 23,
     "metadata": {},
     "output_type": "execute_result"
    }
   ],
   "source": [
    "cnn_model.fit(cnn_x, y_train, epochs = 50, batch_size = 32)"
   ]
  },
  {
   "cell_type": "code",
   "execution_count": 15,
   "id": "dddd5abd",
   "metadata": {},
   "outputs": [],
   "source": [
    "model = cnn_model"
   ]
  },
  {
   "cell_type": "code",
   "execution_count": 16,
   "id": "d520ad20",
   "metadata": {},
   "outputs": [],
   "source": [
    "cnn_test = x_test.reshape(x_test.shape[0],seq,steps,features)"
   ]
  },
  {
   "cell_type": "code",
   "execution_count": 17,
   "id": "161c273a",
   "metadata": {},
   "outputs": [],
   "source": [
    "predicted_prices = model.predict(cnn_test)\n",
    "#amount,nx,ny = predicted_prices.shape\n",
    "#predicted_prices = predicted_prices.reshape(amount,nx*ny)\n",
    "predicted_prices = scaler.inverse_transform(predicted_prices)\n",
    "graph_predict = []\n",
    "for i in range(len(predicted_prices)):\n",
    "    graph_predict.append(predicted_prices[i][0])"
   ]
  },
  {
   "cell_type": "code",
   "execution_count": 18,
   "id": "dafed49d",
   "metadata": {},
   "outputs": [],
   "source": [
    "actual_prices = scaler.inverse_transform(y_test)\n",
    "graph_actual = []\n",
    "for i in range(len(actual_prices)):\n",
    "    graph_actual.append(actual_prices[i][0])"
   ]
  },
  {
   "cell_type": "code",
   "execution_count": 24,
   "id": "d4b989e1",
   "metadata": {},
   "outputs": [
    {
     "data": {
      "image/png": "[encoded data removed]",
      "text/plain": [
       "<Figure size 720x360 with 1 Axes>"
      ]
     },
     "metadata": {
      "needs_background": "light"
     },
     "output_type": "display_data"
    }
   ],
   "source": [
    "plt.figure(figsize=(10,5))\n",
    "dates = df[train_size+time_step:].index\n",
    "plt.plot(dates,graph_predict,color=\"blue\",label=\"Predicted Prices\")\n",
    "plt.plot(dates,graph_actual,color=\"red\",label=\"Actual Prices\")\n",
    "plt.xlabel(\"Date\")\n",
    "plt.ylabel(\"Closing Price\")\n",
    "plt.title(\"Comparison of Predicted Closing Prices to Actual Closing Prices\")\n",
    "plt.grid()\n",
    "plt.legend()\n",
    "plt.show()"
   ]
  },
  {
   "cell_type": "code",
   "execution_count": 21,
   "id": "51f93dde",
   "metadata": {},
   "outputs": [],
   "source": [
    "def normalize_metric(result, data):\n",
    "    normalized = result / (max(data) - min(data))\n",
    "    return normalized"
   ]
  },
  {
   "cell_type": "code",
   "execution_count": 25,
   "id": "63d962be",
   "metadata": {},
   "outputs": [
    {
     "name": "stdout",
     "output_type": "stream",
     "text": [
      "Root Mean Squared Error:  0.06611134466557848\n",
      "Mean Absolute Error:  0.04658823536258049\n",
      "R Squared:  0.9484390030450933\n"
     ]
    }
   ],
   "source": [
    "import sklearn.metrics\n",
    "import math\n",
    "from sklearn import preprocessing\n",
    "\n",
    "#Calculating RMSE\n",
    "mse = sklearn.metrics.mean_squared_error(graph_actual, graph_predict)\n",
    "rmse = math. sqrt(mse)\n",
    "print(\"Root Mean Squared Error: \",normalize_metric(rmse, graph_actual))\n",
    "\n",
    "#Calculate MAE\n",
    "val_sum = 0\n",
    "for i in range(len(graph_actual)):\n",
    "    val_sum += abs(graph_actual[i]-graph_predict[i])\n",
    "error = val_sum/len(graph_actual)\n",
    "print(\"Mean Absolute Error: \",normalize_metric(error, graph_actual))\n",
    "\n",
    "#Calcualting R Squared\n",
    "correlation_matrix = np.corrcoef(graph_actual, graph_predict)\n",
    "correlation_xy = correlation_matrix[0,1]\n",
    "r_squared = correlation_xy**2\n",
    "print(\"R Squared: \",r_squared)\n",
    "#normalize_metric(r_squared, graph_actual)"
   ]
  },
  {
   "cell_type": "code",
   "execution_count": 87,
   "id": "d94eb9a8",
   "metadata": {},
   "outputs": [],
   "source": [
    "import copy\n",
    "def predict_next_days(dataset,time_step, time_period):\n",
    "    #Getting last time_step days of data\n",
    "    temp_start = len(dataset) - time_step\n",
    "    x_input = dataset[temp_start:].reshape(1,-1)\n",
    "    \n",
    "    #Predicting prices of next time_period days\n",
    "    temp_input = copy.deepcopy(x_input)\n",
    "    prediction = []\n",
    "    for i in range(time_period):\n",
    "        if len(temp_input[0]) > time_step:\n",
    "            start_index = len(temp_input[0]) - time_step\n",
    "            temp_input.tolist()\n",
    "            model_input = temp_input[0][start_index:]\n",
    "            model_input = np.array([model_input])\n",
    "            temp_input = np.array(temp_input)\n",
    "        else:\n",
    "            model_input = temp_input\n",
    "        y_predict = model.predict(model_input, verbose = 0)\n",
    "        y_predict = y_predict.reshape(y_predict.shape[0],y_predict.shape[1]*y_predict.shape[2])\n",
    "        pred_price = scaler.inverse_transform(y_predict)\n",
    "        prediction.append(pred_price[0][0])\n",
    "        temp_input = np.append(temp_input, y_predict,axis=1)\n",
    "    return prediction"
   ]
  },
  {
   "cell_type": "code",
   "execution_count": 50,
   "id": "278118ef",
   "metadata": {},
   "outputs": [
    {
     "ename": "IndexError",
     "evalue": "tuple index out of range",
     "output_type": "error",
     "traceback": [
      "\u001b[1;31m---------------------------------------------------------------------------\u001b[0m",
      "\u001b[1;31mIndexError\u001b[0m                                Traceback (most recent call last)",
      "\u001b[1;32m<ipython-input-50-a474202df6f1>\u001b[0m in \u001b[0;36m<module>\u001b[1;34m\u001b[0m\n\u001b[0;32m      1\u001b[0m \u001b[1;32mimport\u001b[0m \u001b[0mdatetime\u001b[0m\u001b[1;33m\u001b[0m\u001b[1;33m\u001b[0m\u001b[0m\n\u001b[1;32m----> 2\u001b[1;33m \u001b[0mfuture_pred\u001b[0m \u001b[1;33m=\u001b[0m \u001b[0mpredict_next_days\u001b[0m\u001b[1;33m(\u001b[0m\u001b[0mtest_data\u001b[0m\u001b[1;33m,\u001b[0m\u001b[0mtime_step\u001b[0m\u001b[1;33m,\u001b[0m\u001b[1;36m30\u001b[0m\u001b[1;33m)\u001b[0m\u001b[1;33m\u001b[0m\u001b[1;33m\u001b[0m\u001b[0m\n\u001b[0m\u001b[0;32m      3\u001b[0m \u001b[0mplt\u001b[0m\u001b[1;33m.\u001b[0m\u001b[0mfigure\u001b[0m\u001b[1;33m(\u001b[0m\u001b[0mfigsize\u001b[0m\u001b[1;33m=\u001b[0m\u001b[1;33m(\u001b[0m\u001b[1;36m10\u001b[0m\u001b[1;33m,\u001b[0m\u001b[1;36m5\u001b[0m\u001b[1;33m)\u001b[0m\u001b[1;33m)\u001b[0m\u001b[1;33m\u001b[0m\u001b[1;33m\u001b[0m\u001b[0m\n\u001b[0;32m      4\u001b[0m \u001b[0mplt\u001b[0m\u001b[1;33m.\u001b[0m\u001b[0mplot\u001b[0m\u001b[1;33m(\u001b[0m\u001b[0mdates\u001b[0m\u001b[1;33m,\u001b[0m\u001b[0mgraph_actual\u001b[0m\u001b[1;33m,\u001b[0m\u001b[0mlabel\u001b[0m\u001b[1;33m=\u001b[0m\u001b[1;34m\"Test Data\"\u001b[0m\u001b[1;33m)\u001b[0m\u001b[1;33m\u001b[0m\u001b[1;33m\u001b[0m\u001b[0m\n\u001b[0;32m      5\u001b[0m \u001b[0mfuture_dates\u001b[0m \u001b[1;33m=\u001b[0m \u001b[1;33m[\u001b[0m\u001b[1;33m]\u001b[0m\u001b[1;33m\u001b[0m\u001b[1;33m\u001b[0m\u001b[0m\n",
      "\u001b[1;32m<ipython-input-49-8ba27c9bc4aa>\u001b[0m in \u001b[0;36mpredict_next_days\u001b[1;34m(dataset, time_step, time_period)\u001b[0m\n\u001b[0;32m     18\u001b[0m             \u001b[0mmodel_input\u001b[0m \u001b[1;33m=\u001b[0m \u001b[0mtemp_input\u001b[0m\u001b[1;33m\u001b[0m\u001b[1;33m\u001b[0m\u001b[0m\n\u001b[0;32m     19\u001b[0m         \u001b[0my_predict\u001b[0m \u001b[1;33m=\u001b[0m \u001b[0mmodel\u001b[0m\u001b[1;33m.\u001b[0m\u001b[0mpredict\u001b[0m\u001b[1;33m(\u001b[0m\u001b[0mmodel_input\u001b[0m\u001b[1;33m,\u001b[0m \u001b[0mverbose\u001b[0m \u001b[1;33m=\u001b[0m \u001b[1;36m0\u001b[0m\u001b[1;33m)\u001b[0m\u001b[1;33m\u001b[0m\u001b[1;33m\u001b[0m\u001b[0m\n\u001b[1;32m---> 20\u001b[1;33m         \u001b[0my_predict\u001b[0m \u001b[1;33m=\u001b[0m \u001b[0my_predict\u001b[0m\u001b[1;33m.\u001b[0m\u001b[0mreshape\u001b[0m\u001b[1;33m(\u001b[0m\u001b[0my_predict\u001b[0m\u001b[1;33m.\u001b[0m\u001b[0mshape\u001b[0m\u001b[1;33m[\u001b[0m\u001b[1;36m0\u001b[0m\u001b[1;33m]\u001b[0m\u001b[1;33m,\u001b[0m\u001b[0my_predict\u001b[0m\u001b[1;33m.\u001b[0m\u001b[0mshape\u001b[0m\u001b[1;33m[\u001b[0m\u001b[1;36m1\u001b[0m\u001b[1;33m]\u001b[0m\u001b[1;33m*\u001b[0m\u001b[0my_predict\u001b[0m\u001b[1;33m.\u001b[0m\u001b[0mshape\u001b[0m\u001b[1;33m[\u001b[0m\u001b[1;36m2\u001b[0m\u001b[1;33m]\u001b[0m\u001b[1;33m)\u001b[0m\u001b[1;33m\u001b[0m\u001b[1;33m\u001b[0m\u001b[0m\n\u001b[0m\u001b[0;32m     21\u001b[0m         \u001b[0mpred_price\u001b[0m \u001b[1;33m=\u001b[0m \u001b[0mscaler\u001b[0m\u001b[1;33m.\u001b[0m\u001b[0minverse_transform\u001b[0m\u001b[1;33m(\u001b[0m\u001b[0my_predict\u001b[0m\u001b[1;33m)\u001b[0m\u001b[1;33m\u001b[0m\u001b[1;33m\u001b[0m\u001b[0m\n\u001b[0;32m     22\u001b[0m         \u001b[0mprediction\u001b[0m\u001b[1;33m.\u001b[0m\u001b[0mappend\u001b[0m\u001b[1;33m(\u001b[0m\u001b[0mpred_price\u001b[0m\u001b[1;33m[\u001b[0m\u001b[1;36m0\u001b[0m\u001b[1;33m]\u001b[0m\u001b[1;33m[\u001b[0m\u001b[1;36m0\u001b[0m\u001b[1;33m]\u001b[0m\u001b[1;33m)\u001b[0m\u001b[1;33m\u001b[0m\u001b[1;33m\u001b[0m\u001b[0m\n",
      "\u001b[1;31mIndexError\u001b[0m: tuple index out of range"
     ]
    }
   ],
   "source": [
    "import datetime\n",
    "future_pred = predict_next_days(test_data,time_step,30)\n",
    "plt.figure(figsize=(10,5))\n",
    "plt.plot(dates,graph_actual,label=\"Test Data\")\n",
    "future_dates = []\n",
    "for i in range(30):\n",
    "    future_dates.append(dates[-1]+datetime.timedelta(i))\n",
    "plt.plot(future_dates,future_pred,label=\"Future Prediction\")\n",
    "plt.xlabel(\"Date\")\n",
    "plt.ylabel(\"Closing Price\")\n",
    "plt.title(\"Predicting 30 Days into the Future\")\n",
    "plt.grid()\n",
    "plt.legend()"
   ]
  },
  {
   "cell_type": "markdown",
   "id": "3159b600",
   "metadata": {},
   "source": [
    "Building LSTM without Tensorflow: \n",
    "https://www.datacamp.com/community/tutorials/lstm-python-stock-market\n",
    "Try and predict log return\n",
    "Try and understand why loss function is higher than paper\n",
    "Go to other paper, try and see how they do it different\n",
    "To get first check different papers and compare\n",
    "Try and predict more companies"
   ]
  },
  {
   "cell_type": "markdown",
   "id": "2f91f2fe",
   "metadata": {},
   "source": [
    "Bidirectional LSTM Papers\n",
    "https://ieeexplore.ieee.org/stamp/stamp.jsp?tp=&arnumber=8355458\n",
    "https://ieeexplore.ieee.org/stamp/stamp.jsp?tp=&arnumber=9257950"
   ]
  }
 ],
 "metadata": {
  "kernelspec": {
   "display_name": "Python 3",
   "language": "python",
   "name": "python3"
  },
  "language_info": {
   "codemirror_mode": {
    "name": "ipython",
    "version": 3
   },
   "file_extension": ".py",
   "mimetype": "text/x-python",
   "name": "python",
   "nbconvert_exporter": "python",
   "pygments_lexer": "ipython3",
   "version": "3.8.8"
  }
 },
 "nbformat": 4,
 "nbformat_minor": 5
}
